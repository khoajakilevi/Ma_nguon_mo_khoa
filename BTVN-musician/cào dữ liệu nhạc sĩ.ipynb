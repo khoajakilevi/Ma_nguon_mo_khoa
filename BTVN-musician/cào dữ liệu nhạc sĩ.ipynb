{
 "cells": [
  {
   "cell_type": "code",
   "execution_count": 46,
   "metadata": {},
   "outputs": [],
   "source": [
    "from pygments.formatters.html import webify\n",
    "from selenium import webdriver\n",
    "from selenium.webdriver.common.by import By\n",
    "from selenium.webdriver.chrome.options import Options\n",
    "import time\n",
    "import pandas as pd\n",
    "import re"
   ]
  },
  {
   "cell_type": "code",
   "execution_count": 47,
   "metadata": {},
   "outputs": [],
   "source": [
    "#tạo dataframe rỗng và dictionnary\n",
    "all_links = []\n",
    "musician_links = []\n",
    "df = pd.DataFrame({\"name of the band\" : [], \"years active\" :[]})"
   ]
  },
  {
   "cell_type": "code",
   "execution_count": 48,
   "metadata": {},
   "outputs": [],
   "source": [
    "# Tạo op để chạy chế độ ẩn \n",
    "chrome_options = Options()\n",
    "chrome_options.add_argument(\"--headless=new\")  \n",
    "chrome_options.add_argument(\"--disable-gpu\")  \n",
    "chrome_options.add_argument(\"--no-sandbox\")  \n",
    "chrome_options.add_argument(\"--disable-dev-shm-usage\") \n",
    "chrome_options.add_argument(\"--log-level=3\")  \n",
    "chrome_options.add_argument(\"--window-size=1920x1080\")  "
   ]
  },
  {
   "cell_type": "code",
   "execution_count": 49,
   "metadata": {},
   "outputs": [
    {
     "name": "stdout",
     "output_type": "stream",
     "text": [
      "141\n",
      "10\n"
     ]
    }
   ],
   "source": [
    "#truy cập vô trang web \n",
    "driver = webdriver.Chrome(chrome_options)\n",
    "url = 'https://en.wikipedia.org/wiki/Lists_of_musicians#A'\n",
    "\n",
    "#mở tràn web\n",
    "driver.get(url)\n",
    "\n",
    "#dừng khoảng 2s\n",
    "time.sleep(2)\n",
    "\n",
    "try:\n",
    "    #lấy tất cả các thẻ ul trong web danh mục\n",
    "    ul_tags = driver.find_elements(By.TAG_NAME, \"ul\")\n",
    "    print(len(ul_tags))\n",
    "\n",
    "    #chọn ul thứ 22\n",
    "    ul_musican = ul_tags[21]\n",
    "    #lấy tất cả link chứa thông tin nhạc sĩ bắt đầu bằng chữ A thuộc ul_musican\n",
    "    li_tags = ul_musican.find_elements(By.TAG_NAME, \"li\")\n",
    "    print(len(li_tags))\n",
    "\n",
    "    # tạo danh sách các url\n",
    "    links = [tag.find_element(By.TAG_NAME,\"a\").get_attribute(\"href\") for tag in li_tags]\n",
    "    for x in links:\n",
    "        all_links.append(x)\n",
    "except:\n",
    "    print(\"Error!!!!\")\n",
    "#tat man hinh\n",
    "driver.quit()"
   ]
  },
  {
   "cell_type": "code",
   "execution_count": 50,
   "metadata": {},
   "outputs": [
    {
     "name": "stdout",
     "output_type": "stream",
     "text": [
      "['https://en.wikipedia.org/wiki/List_of_acid_rock_artists', 'https://en.wikipedia.org/wiki/List_of_adult_alternative_artists', 'https://en.wikipedia.org/wiki/List_of_alternative_country_musicians', 'https://en.wikipedia.org/wiki/List_of_alternative_hip_hop_artists', 'https://en.wikipedia.org/wiki/List_of_alternative_metal_artists', 'https://en.wikipedia.org/wiki/List_of_alternative_rock_artists', 'https://en.wikipedia.org/wiki/List_of_ambient_music_artists', 'https://en.wikipedia.org/wiki/List_of_anarcho-punk_bands', 'https://en.wikipedia.org/wiki/List_of_Arabic_pop_musicians', 'https://en.wikipedia.org/wiki/List_of_avant-garde_metal_artists']\n"
     ]
    }
   ],
   "source": [
    "#kiểm tra all_links có dữ liệu chưa\n",
    "print(all_links)"
   ]
  },
  {
   "cell_type": "code",
   "execution_count": 51,
   "metadata": {},
   "outputs": [
    {
     "name": "stdout",
     "output_type": "stream",
     "text": [
      "48\n",
      "40\n"
     ]
    }
   ],
   "source": [
    "#truy cập vô đường link đầu tiên của all_links\n",
    "artists_driver = webdriver.Chrome(chrome_options)\n",
    "artists_driver.get(all_links[0])\n",
    "\n",
    "#dừng khoảng 2s\n",
    "time.sleep(2)\n",
    "\n",
    "try:\n",
    "     #lấy tất cả các the ul của list of acid rock artists\n",
    "    ul_artists_tags = artists_driver.find_elements(By.TAG_NAME, \"ul\")\n",
    "    print(len(ul_artists_tags))\n",
    "\n",
    "    #chọn ul thứ 25\n",
    "    ul_artist = ul_artists_tags[24]\n",
    "    #lấy tất cả link chứa thông tin thuộc artists\n",
    "    li_artist = ul_artist.find_elements(By.TAG_NAME, \"li\")\n",
    "    print(len(li_artist))\n",
    "\n",
    "    # tạo danh sách các url của artist\n",
    "    links_artist = [artist_tag.find_element(By.TAG_NAME,\"a\").get_attribute(\"href\") for artist_tag in li_artist]\n",
    "    for x in links_artist:\n",
    "        musician_links.append(x)\n",
    "except:\n",
    "    print(\"Error!!!!!!!!!!!!!!!!!!!!!!!!!!!!!!!!!!!!!!!!!!!!!!!!\")\n",
    "artists_driver.quit()"
   ]
  },
  {
   "cell_type": "code",
   "execution_count": 52,
   "metadata": {},
   "outputs": [
    {
     "name": "stdout",
     "output_type": "stream",
     "text": [
      "['https://en.wikipedia.org/wiki/The_13th_Floor_Elevators', 'https://en.wikipedia.org/wiki/Alice_Cooper_(band)', 'https://en.wikipedia.org/wiki/The_Amboy_Dukes_(band)', 'https://en.wikipedia.org/wiki/Amon_D%C3%BC%C3%BCl', 'https://en.wikipedia.org/wiki/Big_Brother_and_the_Holding_Company', 'https://en.wikipedia.org/wiki/Black_Sabbath', 'https://en.wikipedia.org/wiki/Blue_Cheer', 'https://en.wikipedia.org/wiki/Blues_Magoos', 'https://en.wikipedia.org/wiki/The_Charlatans_(American_band)', 'https://en.wikipedia.org/wiki/Count_Five', 'https://en.wikipedia.org/wiki/Country_Joe_and_the_Fish', 'https://en.wikipedia.org/wiki/Coven_(band)', 'https://en.wikipedia.org/wiki/Cream_(band)', 'https://en.wikipedia.org/wiki/Deep_Purple', 'https://en.wikipedia.org/wiki/The_Deviants_(band)', 'https://en.wikipedia.org/wiki/The_Doors', 'https://en.wikipedia.org/wiki/The_Electric_Prunes', 'https://en.wikipedia.org/wiki/The_Fugs', 'https://en.wikipedia.org/wiki/Grateful_Dead', 'https://en.wikipedia.org/wiki/The_Great_Society_(band)', 'https://en.wikipedia.org/wiki/The_Groundhogs', 'https://en.wikipedia.org/wiki/Hawkwind', 'https://en.wikipedia.org/wiki/Iron_Butterfly', 'https://en.wikipedia.org/wiki/Jefferson_Airplane', 'https://en.wikipedia.org/wiki/The_Jimi_Hendrix_Experience', 'https://en.wikipedia.org/wiki/Janis_Joplin', 'https://en.wikipedia.org/wiki/JPT_Scare_Band', 'https://en.wikipedia.org/wiki/Love_(band)', 'https://en.wikipedia.org/wiki/MC5', 'https://en.wikipedia.org/wiki/Moby_Grape', 'https://en.wikipedia.org/wiki/The_Music_Machine', 'https://en.wikipedia.org/wiki/Pop_Ma%C5%A1ina', 'https://en.wikipedia.org/wiki/Quicksilver_Messenger_Service', 'https://en.wikipedia.org/wiki/Santana_(band)', 'https://en.wikipedia.org/wiki/The_Seeds', 'https://en.wikipedia.org/wiki/Grace_Slick', 'https://en.wikipedia.org/wiki/Steppenwolf_(band)', 'https://en.wikipedia.org/wiki/Tully_(band)', 'https://en.wikipedia.org/wiki/Vanilla_Fudge', 'https://en.wikipedia.org/wiki/Wooden_Shjips']\n"
     ]
    }
   ],
   "source": [
    "#kiểm tra musician có dữ liệu chưa\n",
    "print(musician_links)"
   ]
  },
  {
   "cell_type": "code",
   "execution_count": 53,
   "metadata": {},
   "outputs": [
    {
     "name": "stdout",
     "output_type": "stream",
     "text": [
      "https://en.wikipedia.org/wiki/The_13th_Floor_Elevators\n",
      "https://en.wikipedia.org/wiki/Alice_Cooper_(band)\n",
      "https://en.wikipedia.org/wiki/The_Amboy_Dukes_(band)\n",
      "https://en.wikipedia.org/wiki/Amon_D%C3%BC%C3%BCl\n",
      "https://en.wikipedia.org/wiki/Big_Brother_and_the_Holding_Company\n",
      "https://en.wikipedia.org/wiki/Black_Sabbath\n",
      "https://en.wikipedia.org/wiki/Blue_Cheer\n",
      "https://en.wikipedia.org/wiki/Blues_Magoos\n",
      "https://en.wikipedia.org/wiki/The_Charlatans_(American_band)\n",
      "https://en.wikipedia.org/wiki/Count_Five\n",
      "https://en.wikipedia.org/wiki/Country_Joe_and_the_Fish\n",
      "https://en.wikipedia.org/wiki/Coven_(band)\n",
      "https://en.wikipedia.org/wiki/Cream_(band)\n",
      "https://en.wikipedia.org/wiki/Deep_Purple\n",
      "https://en.wikipedia.org/wiki/The_Deviants_(band)\n",
      "https://en.wikipedia.org/wiki/The_Doors\n",
      "https://en.wikipedia.org/wiki/The_Electric_Prunes\n",
      "https://en.wikipedia.org/wiki/The_Fugs\n",
      "https://en.wikipedia.org/wiki/Grateful_Dead\n",
      "https://en.wikipedia.org/wiki/The_Great_Society_(band)\n",
      "https://en.wikipedia.org/wiki/The_Groundhogs\n",
      "https://en.wikipedia.org/wiki/Hawkwind\n",
      "https://en.wikipedia.org/wiki/Iron_Butterfly\n",
      "https://en.wikipedia.org/wiki/Jefferson_Airplane\n",
      "https://en.wikipedia.org/wiki/The_Jimi_Hendrix_Experience\n",
      "https://en.wikipedia.org/wiki/Janis_Joplin\n",
      "https://en.wikipedia.org/wiki/JPT_Scare_Band\n",
      "https://en.wikipedia.org/wiki/Love_(band)\n",
      "https://en.wikipedia.org/wiki/MC5\n",
      "https://en.wikipedia.org/wiki/Moby_Grape\n",
      "https://en.wikipedia.org/wiki/The_Music_Machine\n",
      "https://en.wikipedia.org/wiki/Pop_Ma%C5%A1ina\n",
      "https://en.wikipedia.org/wiki/Quicksilver_Messenger_Service\n",
      "https://en.wikipedia.org/wiki/Santana_(band)\n",
      "https://en.wikipedia.org/wiki/The_Seeds\n",
      "https://en.wikipedia.org/wiki/Grace_Slick\n",
      "https://en.wikipedia.org/wiki/Steppenwolf_(band)\n",
      "https://en.wikipedia.org/wiki/Tully_(band)\n",
      "https://en.wikipedia.org/wiki/Vanilla_Fudge\n",
      "https://en.wikipedia.org/wiki/Wooden_Shjips\n"
     ]
    }
   ],
   "source": [
    "#lấy thông tin của các nhạc sĩ ca sĩ\n",
    "count = 0\n",
    "for link in musician_links:\n",
    "    # if(count >= 2):\n",
    "    #     break\n",
    "    # count += 1\n",
    "    print(link)\n",
    "    try:\n",
    "        #khởi tạo webdriver\n",
    "        driver = webdriver.Chrome(options=chrome_options)\n",
    "        #mở trang web\n",
    "        url = link\n",
    "        driver.get(url)\n",
    "        #đợi khoảng 2s\n",
    "        time.sleep(2)\n",
    "        #lấy tên ban nhạc\n",
    "        try:\n",
    "            name_band = driver.find_element(By.TAG_NAME, \"h1\").text\n",
    "        except:\n",
    "            name_band = \"\"\n",
    "\n",
    "        #lay năm hoat dong\n",
    "        try:\n",
    "            year_active_element = driver.find_element(By.XPATH, value='//span[contains(text(),\"Years active\")]/parent::*/following-sibling::td')\n",
    "            year_active = year_active_element.text\n",
    "            \n",
    "        except:\n",
    "            year = \"\"\n",
    "\n",
    "        #tạo dictionanty để thêm thông tin nhạc sĩ\n",
    "        musician = {'name of the band': name_band, 'years active': year_active}\n",
    "        #chuyển đổi dictionary thành dataframe\n",
    "        musician_df = pd.DataFrame([musician])\n",
    "        #thêm thông tin vào df chính\n",
    "        df = pd.concat([df, musician_df], ignore_index=True)\n",
    "        #đóng web\n",
    "        driver.quit()\n",
    "    except:\n",
    "        print(\"Error!!!!!!!!!!!!!!!\")"
   ]
  },
  {
   "cell_type": "code",
   "execution_count": 54,
   "metadata": {},
   "outputs": [
    {
     "name": "stdout",
     "output_type": "stream",
     "text": [
      "                       name of the band  \\\n",
      "0              The 13th Floor Elevators   \n",
      "1                   Alice Cooper (band)   \n",
      "2                The Amboy Dukes (band)   \n",
      "3                             Amon Düül   \n",
      "4   Big Brother and the Holding Company   \n",
      "5                         Black Sabbath   \n",
      "6                            Blue Cheer   \n",
      "7                          Blues Magoos   \n",
      "8        The Charlatans (American band)   \n",
      "9                            Count Five   \n",
      "10             Country Joe and the Fish   \n",
      "11                         Coven (band)   \n",
      "12                         Cream (band)   \n",
      "13                          Deep Purple   \n",
      "14                  The Deviants (band)   \n",
      "15                            The Doors   \n",
      "16                  The Electric Prunes   \n",
      "17                             The Fugs   \n",
      "18                        Grateful Dead   \n",
      "19             The Great Society (band)   \n",
      "20                       The Groundhogs   \n",
      "21                             Hawkwind   \n",
      "22                       Iron Butterfly   \n",
      "23                   Jefferson Airplane   \n",
      "24                         Jimi Hendrix   \n",
      "25                         Janis Joplin   \n",
      "26                       JPT Scare Band   \n",
      "27                          Love (band)   \n",
      "28                                  MC5   \n",
      "29                           Moby Grape   \n",
      "30                    The Music Machine   \n",
      "31                           Pop Mašina   \n",
      "32        Quicksilver Messenger Service   \n",
      "33                       Santana (band)   \n",
      "34                            The Seeds   \n",
      "35                          Grace Slick   \n",
      "36                   Steppenwolf (band)   \n",
      "37                         Tully (band)   \n",
      "38                        Vanilla Fudge   \n",
      "39                        Wooden Shjips   \n",
      "\n",
      "                                         years active  \n",
      "0                         1965–1969, 1973, 1984, 2015  \n",
      "1   1968–1974\\n(reunions: 1999, 2006, 2010, 2011, ...  \n",
      "2                                           1964–1975  \n",
      "3                                1967–1971, 1980–1989  \n",
      "4                  1965–1968, 1969–1972, 1987–present  \n",
      "5   1968–2017 (hiatuses: 1984–1985, 1996–1997, 200...  \n",
      "6                                           1966–2009  \n",
      "7                             1964–1970, 2008–present  \n",
      "8                            1964–1969 1997 2005 2015  \n",
      "9                                           1964–1969  \n",
      "10  1965–1970, 1977, 2004–2006 (as Country Joe Ban...  \n",
      "11                            1967–1975, 2007–present  \n",
      "12                                1966–1968 1993 2005  \n",
      "13                              1968–19761984–present  \n",
      "14                 1966–196919781984199620022011–2013  \n",
      "15  1965–19731978\\nOne-off reunions: 1993, 1997, 2...  \n",
      "16                            1965–1970, 1999–present  \n",
      "17                             1964–1969 1984–present  \n",
      "18                                          1965–1995  \n",
      "19                                          1965–1966  \n",
      "20                                          1963–2014  \n",
      "21                                       1969–present  \n",
      "22               1966–19711974–19851987–20122015–2021  \n",
      "23                              1965–1973, 1989, 1996  \n",
      "24                                          1962–1970  \n",
      "25                                          1962–1970  \n",
      "26                                       1973–present  \n",
      "27                   1965–1996 2002–2005 2009–present  \n",
      "28  1963–19721974–197519922003–20112018–20192022–2024  \n",
      "29  1966–196919711973–19751977–19791983–19841987–1...  \n",
      "30                                          1965–1969  \n",
      "31                                          1972–1978  \n",
      "32  1965–1979, 2006–2009\\n1984–1996 (Gary Duncan's...  \n",
      "33                                       1966–present  \n",
      "34  1965–1969, 1969–1972 (as Sky Saxon and the See...  \n",
      "35  1965–1969, 1969–1972 (as Sky Saxon and the See...  \n",
      "36                        1967–19721974–19761980–2018  \n",
      "37                               1968–1972, 1976–1978  \n",
      "38        1967–19701982–19841987–198819911999–present  \n",
      "39                                       2006–present  \n",
      "DataFrame is written to Excel File successfully.\n"
     ]
    }
   ],
   "source": [
    "#in thông tin ra file excel\n",
    "print(df)\n",
    "\n",
    "#đặt tên file excel\n",
    "file_name = \"musicians.xlsx\"\n",
    "\n",
    "#bỏ thông tin vào file excel\n",
    "df.to_excel(file_name)\n",
    "print('DataFrame is written to Excel File successfully.')"
   ]
  }
 ],
 "metadata": {
  "kernelspec": {
   "display_name": "Python 3",
   "language": "python",
   "name": "python3"
  },
  "language_info": {
   "codemirror_mode": {
    "name": "ipython",
    "version": 3
   },
   "file_extension": ".py",
   "mimetype": "text/x-python",
   "name": "python",
   "nbconvert_exporter": "python",
   "pygments_lexer": "ipython3",
   "version": "3.11.6"
  }
 },
 "nbformat": 4,
 "nbformat_minor": 2
}
